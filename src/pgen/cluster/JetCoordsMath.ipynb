{
 "cells": [
  {
   "cell_type": "code",
   "execution_count": 1,
   "id": "3d49a71c",
   "metadata": {},
   "outputs": [],
   "source": [
    "import sympy as sy\n",
    "import sympy.physics.vector\n",
    "import sympy.vector\n",
    "from sympy.codegen.ast import Assignment\n",
    "import numpy as np"
   ]
  },
  {
   "cell_type": "code",
   "execution_count": 2,
   "id": "2762bbb0",
   "metadata": {},
   "outputs": [],
   "source": [
    "#Define the simulation cartesian coordinate frame\n",
    "S_cart = sympy.vector.CoordSys3D(\"S_{cart}\")"
   ]
  },
  {
   "cell_type": "code",
   "execution_count": 3,
   "id": "6c8a2a1b",
   "metadata": {},
   "outputs": [],
   "source": [
    "#Azimuthal and inclination angle of the jet\n",
    "phi_jet, theta_jet = sy.symbols(\"phi_jet theta_jet\")\n",
    "\n",
    "#Define the cartesian coordinate system of the jet\n",
    "J_cart = S_cart.orient_new_space(\"J_{cart}\", theta_jet, phi_jet, 0, \"YZX\")\n",
    "\n",
    "\n",
    "#Define the cylindrical coordinate system of the jet\n",
    "J_cyl = J_cart.create_new(\"J_{cyl}\",transformation=\"cylindrical\")"
   ]
  },
  {
   "cell_type": "markdown",
   "id": "324f0c8d",
   "metadata": {},
   "source": [
    "# Equations and code to convert simulation cartesian coordinates to jet cylindrical coordinates"
   ]
  },
  {
   "cell_type": "code",
   "execution_count": 4,
   "id": "1ce2d3b4",
   "metadata": {
    "scrolled": true
   },
   "outputs": [
    {
     "name": "stdout",
     "output_type": "stream",
     "text": [
      "Equation for jet cartesian coords from simulation cartesian coords\n"
     ]
    },
    {
     "data": {
      "text/latex": [
       "$\\displaystyle x_{jet} = x_{sim} \\cos{\\left(\\phi_{jet} \\right)} \\cos{\\left(\\theta_{jet} \\right)} + y_{sim} \\sin{\\left(\\phi_{jet} \\right)} \\cos{\\left(\\theta_{jet} \\right)} - z_{sim} \\sin{\\left(\\theta_{jet} \\right)}$"
      ],
      "text/plain": [
       "Eq(x_jet, x_sim*cos(phi_jet)*cos(theta_jet) + y_sim*sin(phi_jet)*cos(theta_jet) - z_sim*sin(theta_jet))"
      ]
     },
     "metadata": {},
     "output_type": "display_data"
    },
    {
     "data": {
      "text/latex": [
       "$\\displaystyle y_{jet} = - x_{sim} \\sin{\\left(\\phi_{jet} \\right)} + y_{sim} \\cos{\\left(\\phi_{jet} \\right)}$"
      ],
      "text/plain": [
       "Eq(y_jet, -x_sim*sin(phi_jet) + y_sim*cos(phi_jet))"
      ]
     },
     "metadata": {},
     "output_type": "display_data"
    },
    {
     "data": {
      "text/latex": [
       "$\\displaystyle z_{jet} = x_{sim} \\sin{\\left(\\theta_{jet} \\right)} \\cos{\\left(\\phi_{jet} \\right)} + y_{sim} \\sin{\\left(\\phi_{jet} \\right)} \\sin{\\left(\\theta_{jet} \\right)} + z_{sim} \\cos{\\left(\\theta_{jet} \\right)}$"
      ],
      "text/plain": [
       "Eq(z_jet, x_sim*sin(theta_jet)*cos(phi_jet) + y_sim*sin(phi_jet)*sin(theta_jet) + z_sim*cos(theta_jet))"
      ]
     },
     "metadata": {},
     "output_type": "display_data"
    },
    {
     "name": "stdout",
     "output_type": "stream",
     "text": [
      "\n",
      "Latex for jet cartesian coords from simulation cartesian coords\n",
      "x_{jet} = x_{sim} \\cos{\\left(\\phi_{jet} \\right)} \\cos{\\left(\\theta_{jet} \\right)} + y_{sim} \\sin{\\left(\\phi_{jet} \\right)} \\cos{\\left(\\theta_{jet} \\right)} - z_{sim} \\sin{\\left(\\theta_{jet} \\right)}\n",
      "y_{jet} = - x_{sim} \\sin{\\left(\\phi_{jet} \\right)} + y_{sim} \\cos{\\left(\\phi_{jet} \\right)}\n",
      "z_{jet} = x_{sim} \\sin{\\left(\\theta_{jet} \\right)} \\cos{\\left(\\phi_{jet} \\right)} + y_{sim} \\sin{\\left(\\phi_{jet} \\right)} \\sin{\\left(\\theta_{jet} \\right)} + z_{sim} \\cos{\\left(\\theta_{jet} \\right)}\n",
      "\n",
      "Code for jet_cartesian vector as a sim cartesian_vector\n",
      "x_jet = x_sim*cos(phi_jet)*cos(theta_jet) + y_sim*sin(phi_jet)*cos(theta_jet) - z_sim*sin(theta_jet);\n",
      "y_jet = -x_sim*sin(phi_jet) + y_sim*cos(phi_jet);\n",
      "z_jet = x_sim*sin(theta_jet)*cos(phi_jet) + y_sim*sin(phi_jet)*sin(theta_jet) + z_sim*cos(theta_jet);\n",
      "\n",
      "Equation for jet cylindrical coords from simulation cartesian coords\n"
     ]
    },
    {
     "data": {
      "text/latex": [
       "$\\displaystyle pos_{r} = \\sqrt{\\left(- x_{sim} \\sin{\\left(\\phi_{jet} \\right)} + y_{sim} \\cos{\\left(\\phi_{jet} \\right)}\\right)^{2} + \\left(x_{sim} \\cos{\\left(\\phi_{jet} \\right)} \\cos{\\left(\\theta_{jet} \\right)} + y_{sim} \\sin{\\left(\\phi_{jet} \\right)} \\cos{\\left(\\theta_{jet} \\right)} - z_{sim} \\sin{\\left(\\theta_{jet} \\right)}\\right)^{2}}$"
      ],
      "text/plain": [
       "Eq(pos_r, sqrt((-x_sim*sin(phi_jet) + y_sim*cos(phi_jet))**2 + (x_sim*cos(phi_jet)*cos(theta_jet) + y_sim*sin(phi_jet)*cos(theta_jet) - z_sim*sin(theta_jet))**2))"
      ]
     },
     "metadata": {},
     "output_type": "display_data"
    },
    {
     "data": {
      "text/latex": [
       "$\\displaystyle pos_{\\theta} = \\operatorname{atan}_{2}{\\left(- x_{sim} \\sin{\\left(\\phi_{jet} \\right)} + y_{sim} \\cos{\\left(\\phi_{jet} \\right)},x_{sim} \\cos{\\left(\\phi_{jet} \\right)} \\cos{\\left(\\theta_{jet} \\right)} + y_{sim} \\sin{\\left(\\phi_{jet} \\right)} \\cos{\\left(\\theta_{jet} \\right)} - z_{sim} \\sin{\\left(\\theta_{jet} \\right)} \\right)}$"
      ],
      "text/plain": [
       "Eq(pos_theta, atan2(-x_sim*sin(phi_jet) + y_sim*cos(phi_jet), x_sim*cos(phi_jet)*cos(theta_jet) + y_sim*sin(phi_jet)*cos(theta_jet) - z_sim*sin(theta_jet)))"
      ]
     },
     "metadata": {},
     "output_type": "display_data"
    },
    {
     "data": {
      "text/latex": [
       "$\\displaystyle pos_{h} = x_{sim} \\sin{\\left(\\theta_{jet} \\right)} \\cos{\\left(\\phi_{jet} \\right)} + y_{sim} \\sin{\\left(\\phi_{jet} \\right)} \\sin{\\left(\\theta_{jet} \\right)} + z_{sim} \\cos{\\left(\\theta_{jet} \\right)}$"
      ],
      "text/plain": [
       "Eq(pos_h, x_sim*sin(theta_jet)*cos(phi_jet) + y_sim*sin(phi_jet)*sin(theta_jet) + z_sim*cos(theta_jet))"
      ]
     },
     "metadata": {},
     "output_type": "display_data"
    },
    {
     "name": "stdout",
     "output_type": "stream",
     "text": [
      "Latex for jet cylindrical coords from simulation cartesian coords\n",
      "pos_{r} = \\sqrt{\\left(- x_{sim} \\sin{\\left(\\phi_{jet} \\right)} + y_{sim} \\cos{\\left(\\phi_{jet} \\right)}\\right)^{2} + \\left(x_{sim} \\cos{\\left(\\phi_{jet} \\right)} \\cos{\\left(\\theta_{jet} \\right)} + y_{sim} \\sin{\\left(\\phi_{jet} \\right)} \\cos{\\left(\\theta_{jet} \\right)} - z_{sim} \\sin{\\left(\\theta_{jet} \\right)}\\right)^{2}}\n",
      "pos_{\\theta} = \\operatorname{atan}_{2}{\\left(- x_{sim} \\sin{\\left(\\phi_{jet} \\right)} + y_{sim} \\cos{\\left(\\phi_{jet} \\right)},x_{sim} \\cos{\\left(\\phi_{jet} \\right)} \\cos{\\left(\\theta_{jet} \\right)} + y_{sim} \\sin{\\left(\\phi_{jet} \\right)} \\cos{\\left(\\theta_{jet} \\right)} - z_{sim} \\sin{\\left(\\theta_{jet} \\right)} \\right)}\n",
      "pos_{h} = x_{sim} \\sin{\\left(\\theta_{jet} \\right)} \\cos{\\left(\\phi_{jet} \\right)} + y_{sim} \\sin{\\left(\\phi_{jet} \\right)} \\sin{\\left(\\theta_{jet} \\right)} + z_{sim} \\cos{\\left(\\theta_{jet} \\right)}\n",
      "Equation for jet cylindrical coords from simulation cartesian coords\n",
      "pos_r = sqrt(pow(-x_sim*sin(phi_jet) + y_sim*cos(phi_jet), 2) + pow(x_sim*cos(phi_jet)*cos(theta_jet) + y_sim*sin(phi_jet)*cos(theta_jet) - z_sim*sin(theta_jet), 2));\n",
      "pos_theta = atan2(-x_sim*sin(phi_jet) + y_sim*cos(phi_jet), x_sim*cos(phi_jet)*cos(theta_jet) + y_sim*sin(phi_jet)*cos(theta_jet) - z_sim*sin(theta_jet));\n",
      "pos_h = x_sim*sin(theta_jet)*cos(phi_jet) + y_sim*sin(phi_jet)*sin(theta_jet) + z_sim*cos(theta_jet);\n"
     ]
    }
   ],
   "source": [
    "#Define a position in simulation-cartesian\n",
    "x_sim,y_sim,z_sim = sy.symbols(\"x_sim y_sim z_sim\")\n",
    "\n",
    "pos_sim = S_cart.origin.locate_new(\"p_sim\",x_sim*S_cart.i + y_sim*S_cart.j + z_sim*S_cart.k)\n",
    "\n",
    "#Express that simulation-cartesian position in jet-cartesian\n",
    "pos_jet = pos_sim.express_coordinates(J_cart)\n",
    "\n",
    "print(\"Equation for jet cartesian coords from simulation cartesian coords\")\n",
    "for i,pos_i in enumerate(pos_jet):\n",
    "    display(sy.Eq(sy.symbols(f\"{'xyz'[i]}_jet\"),pos_i,evaluate=False))\n",
    "print()\n",
    "\n",
    "print(\"Latex for jet cartesian coords from simulation cartesian coords\")\n",
    "for i,pos_i in enumerate(pos_jet):\n",
    "    print(sy.latex(sy.Eq(sy.symbols(f\"{'xyz'[i]}_jet\"),pos_i,evaluate=False)))\n",
    "print()\n",
    "\n",
    "\n",
    "print(\"Code for jet_cartesian vector as a sim cartesian_vector\")\n",
    "for i,pos_i in enumerate(pos_jet):\n",
    "    print(sy.ccode(Assignment(sy.symbols(f\"{'xyz'[i]}_jet\"),pos_i)))\n",
    "print()\n",
    "\n",
    "#Express the simulation-cartesian position in jet-cylindrical\n",
    "pos_r = sy.sqrt(pos_jet[0]**2 + pos_jet[1]**2)\n",
    "pos_theta = sy.atan2(pos_jet[1],pos_jet[0])\n",
    "pos_h = pos_jet[2]\n",
    "\n",
    "print(\"Equation for jet cylindrical coords from simulation cartesian coords\")\n",
    "for symbol,var in zip(sy.symbols(\"pos_r pos_theta pos_h\"),(pos_r,pos_theta,pos_h)):\n",
    "    display(sy.Eq(symbol,var,evaluate=False))\n",
    "\n",
    "print(\"Latex for jet cylindrical coords from simulation cartesian coords\")\n",
    "for symbol,var in zip(sy.symbols(\"pos_r pos_theta pos_h\"),(pos_r,pos_theta,pos_h)):\n",
    "    print(sy.latex(sy.Eq(symbol,var,evaluate=False)))\n",
    "    \n",
    "print(\"Equation for jet cylindrical coords from simulation cartesian coords\")\n",
    "for symbol,var in zip(sy.symbols(\"pos_r pos_theta pos_h\"),(pos_r,pos_theta,pos_h)):\n",
    "    print(sy.ccode(Assignment(symbol,var)))\n"
   ]
  },
  {
   "cell_type": "markdown",
   "id": "7df8918b",
   "metadata": {},
   "source": [
    "# Equations and code to convert jet cylindrical vectors to simulation cartesian vectors"
   ]
  },
  {
   "cell_type": "code",
   "execution_count": 5,
   "id": "66b32b15",
   "metadata": {
    "scrolled": true
   },
   "outputs": [
    {
     "name": "stdout",
     "output_type": "stream",
     "text": [
      "Equation for DCM matrix for jet cartesian to sim cartesian\n"
     ]
    },
    {
     "data": {
      "text/latex": [
       "$\\displaystyle \\left[\\begin{matrix}\\cos{\\left(\\phi_{jet} \\right)} \\cos{\\left(\\theta_{jet} \\right)} & - \\sin{\\left(\\phi_{jet} \\right)} & \\sin{\\left(\\theta_{jet} \\right)} \\cos{\\left(\\phi_{jet} \\right)}\\\\\\sin{\\left(\\phi_{jet} \\right)} \\cos{\\left(\\theta_{jet} \\right)} & \\cos{\\left(\\phi_{jet} \\right)} & \\sin{\\left(\\phi_{jet} \\right)} \\sin{\\left(\\theta_{jet} \\right)}\\\\- \\sin{\\left(\\theta_{jet} \\right)} & 0 & \\cos{\\left(\\theta_{jet} \\right)}\\end{matrix}\\right]$"
      ],
      "text/plain": [
       "Matrix([\n",
       "[cos(phi_jet)*cos(theta_jet), -sin(phi_jet), sin(theta_jet)*cos(phi_jet)],\n",
       "[sin(phi_jet)*cos(theta_jet),  cos(phi_jet), sin(phi_jet)*sin(theta_jet)],\n",
       "[            -sin(theta_jet),             0,              cos(theta_jet)]])"
      ]
     },
     "metadata": {},
     "output_type": "display_data"
    },
    {
     "name": "stdout",
     "output_type": "stream",
     "text": [
      "\n",
      "Latex for DCM matrix for jet cartesian to sim cartesian\n",
      "\\left[\\begin{matrix}\\cos{\\left(\\phi_{jet} \\right)} \\cos{\\left(\\theta_{jet} \\right)} & - \\sin{\\left(\\phi_{jet} \\right)} & \\sin{\\left(\\theta_{jet} \\right)} \\cos{\\left(\\phi_{jet} \\right)}\\\\\\sin{\\left(\\phi_{jet} \\right)} \\cos{\\left(\\theta_{jet} \\right)} & \\cos{\\left(\\phi_{jet} \\right)} & \\sin{\\left(\\phi_{jet} \\right)} \\sin{\\left(\\theta_{jet} \\right)}\\\\- \\sin{\\left(\\theta_{jet} \\right)} & 0 & \\cos{\\left(\\theta_{jet} \\right)}\\end{matrix}\\right]\n",
      "\n",
      "Equations for jet_cartesian vector as a sim cartesian_vector\n"
     ]
    },
    {
     "data": {
      "text/latex": [
       "$\\displaystyle v_{xsim} = v_{xjet} \\cos{\\left(\\phi_{jet} \\right)} \\cos{\\left(\\theta_{jet} \\right)} - v_{yjet} \\sin{\\left(\\phi_{jet} \\right)} + v_{zjet} \\sin{\\left(\\theta_{jet} \\right)} \\cos{\\left(\\phi_{jet} \\right)}$"
      ],
      "text/plain": [
       "Eq(v_xsim, v_xjet*cos(phi_jet)*cos(theta_jet) - v_yjet*sin(phi_jet) + v_zjet*sin(theta_jet)*cos(phi_jet))"
      ]
     },
     "metadata": {},
     "output_type": "display_data"
    },
    {
     "data": {
      "text/latex": [
       "$\\displaystyle v_{ysim} = v_{xjet} \\sin{\\left(\\phi_{jet} \\right)} \\cos{\\left(\\theta_{jet} \\right)} + v_{yjet} \\cos{\\left(\\phi_{jet} \\right)} + v_{zjet} \\sin{\\left(\\phi_{jet} \\right)} \\sin{\\left(\\theta_{jet} \\right)}$"
      ],
      "text/plain": [
       "Eq(v_ysim, v_xjet*sin(phi_jet)*cos(theta_jet) + v_yjet*cos(phi_jet) + v_zjet*sin(phi_jet)*sin(theta_jet))"
      ]
     },
     "metadata": {},
     "output_type": "display_data"
    },
    {
     "data": {
      "text/latex": [
       "$\\displaystyle v_{zsim} = - v_{xjet} \\sin{\\left(\\theta_{jet} \\right)} + v_{zjet} \\cos{\\left(\\theta_{jet} \\right)}$"
      ],
      "text/plain": [
       "Eq(v_zsim, -v_xjet*sin(theta_jet) + v_zjet*cos(theta_jet))"
      ]
     },
     "metadata": {},
     "output_type": "display_data"
    },
    {
     "name": "stdout",
     "output_type": "stream",
     "text": [
      "\n",
      "Code for jet_cartesian vector as a sim cartesian_vector\n",
      "v_xsim = v_xjet*cos(phi_jet)*cos(theta_jet) - v_yjet*sin(phi_jet) + v_zjet*sin(theta_jet)*cos(phi_jet);\n",
      "v_ysim = v_xjet*sin(phi_jet)*cos(theta_jet) + v_yjet*cos(phi_jet) + v_zjet*sin(phi_jet)*sin(theta_jet);\n",
      "v_zsim = -v_xjet*sin(theta_jet) + v_zjet*cos(theta_jet);\n"
     ]
    }
   ],
   "source": [
    "#Get a rotation matrix for vectors from jet-cartesian to simulation-cartesian\n",
    "DCM_jet_to_sim = S_cart.rotation_matrix(J_cart)\n",
    "\n",
    "print(\"Equation for DCM matrix for jet cartesian to sim cartesian\")\n",
    "display(DCM_jet_to_sim)\n",
    "print()\n",
    "\n",
    "print(\"Latex for DCM matrix for jet cartesian to sim cartesian\")\n",
    "print(sy.latex(DCM_jet_to_sim))\n",
    "print()\n",
    "\n",
    "#Express the equation for jet-cylindrical vectors to simulation-cartesian vectors\n",
    "v_x, v_y, v_z = sy.symbols(\"v_xjet v_yjet v_zjet\")\n",
    "v_jet = v_x*J_cart.i + v_y*J_cart.j + v_z*J_cart.k\n",
    "\n",
    "print(\"Equations for jet_cartesian vector as a sim cartesian_vector\")\n",
    "for i,unit in enumerate((S_cart.i, S_cart.j, S_cart.k)):\n",
    "    out = sy.symbols(f\"v_{'xyz'[i]}sim\")\n",
    "    display(sy.Eq(out,unit.dot(v_jet),evaluate=False))\n",
    "print()\n",
    "\n",
    "print(\"Code for jet_cartesian vector as a sim cartesian_vector\")\n",
    "for i,unit in enumerate((S_cart.i, S_cart.j, S_cart.k)):\n",
    "    out = sy.symbols(f\"v_{'xyz'[i]}sim\")\n",
    "    print(sy.ccode(Assignment(out,unit.dot(v_jet))))"
   ]
  },
  {
   "cell_type": "markdown",
   "id": "0d18aa6e",
   "metadata": {},
   "source": [
    "# Verification"
   ]
  },
  {
   "cell_type": "markdown",
   "id": "fd3ab37d",
   "metadata": {},
   "source": [
    " Verify that a vector along the jet axis points down $(1,\\theta_{jet},\\phi_{jet})$"
   ]
  },
  {
   "cell_type": "code",
   "execution_count": 6,
   "id": "3ea1df6b",
   "metadata": {},
   "outputs": [
    {
     "name": "stdout",
     "output_type": "stream",
     "text": [
      "Vector along jet axis is consistent\n"
     ]
    }
   ],
   "source": [
    "v_jet = J_cyl.k\n",
    "v_jet_cart = sy.sin(theta_jet)*sy.cos(phi_jet)*S_cart.i + \\\n",
    "            sy.sin(theta_jet)*sy.sin(phi_jet)*S_cart.j + \\\n",
    "            sy.cos(theta_jet)*S_cart.k\n",
    "\n",
    "if v_jet_cart == sy.vector.express(v_jet,S_cart):\n",
    "    print(\"Vector along jet axis is consistent\")\n",
    "else:\n",
    "    print(\"FAIL: Vector along jet axis is NOT consistent\")"
   ]
  }
 ],
 "metadata": {
  "kernelspec": {
   "display_name": "Python 3 (ipykernel)",
   "language": "python",
   "name": "python3"
  },
  "language_info": {
   "codemirror_mode": {
    "name": "ipython",
    "version": 3
   },
   "file_extension": ".py",
   "mimetype": "text/x-python",
   "name": "python",
   "nbconvert_exporter": "python",
   "pygments_lexer": "ipython3",
   "version": "3.9.12"
  }
 },
 "nbformat": 4,
 "nbformat_minor": 5
}
